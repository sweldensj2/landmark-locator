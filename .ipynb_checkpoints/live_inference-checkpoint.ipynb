{
 "cells": [
  {
   "cell_type": "markdown",
   "id": "48350b85-f72c-40b3-850e-a4dd42e49410",
   "metadata": {},
   "source": [
    "# Live Inference\n",
    "This workbork should be able to run live inference of the trained models using the webcam on the jetson. It loads in the stored weights, and then reads in the live camera output. "
   ]
  },
  {
   "cell_type": "code",
   "execution_count": 1,
   "id": "0213dabd-203e-4682-8b5b-7de1500034fa",
   "metadata": {},
   "outputs": [],
   "source": [
    "# !{os.sys.executable} -m pip install --upgrade ultralytics==8.1.29"
   ]
  },
  {
   "cell_type": "code",
   "execution_count": 4,
   "id": "02067891-68c2-4950-8d2f-fb49c72f5de5",
   "metadata": {
    "tags": []
   },
   "outputs": [],
   "source": [
    "# import packages\n",
    "import os\n",
    "import cv2\n",
    "import numpy as np\n",
    "from IPython.display import Video, display, clear_output\n",
    "import time\n",
    "import torch\n",
    "from ultralytics import RTDETR\n",
    "import torchvision.transforms as T\n",
    "from PIL import Image\n",
    "import random\n",
    "import uuid\n",
    "import io\n",
    "import IPython\n",
    "\n",
    "\n",
    "\n",
    "\n",
    "from utils.pretrained_deployment import download_images, download_images2, download_images_with_resize, download_images_full_size\n",
    "from utils.display import *\n",
    "from utils.make_dataset_nyc_landmarks import make_nyc_dataset\n",
    "\n",
    "device = torch.device(\"cuda\" if torch.cuda.is_available() else \"cpu\")\n",
    "\n",
    "# reload modules every 2 seconds to see changes in notebook\n",
    "%load_ext autoreload\n",
    "%autoreload 2\n",
    "\n",
    "%matplotlib inline"
   ]
  },
  {
   "cell_type": "code",
   "execution_count": 5,
   "id": "a696f6e9-2f79-44cf-8d9e-07172dbcf883",
   "metadata": {
    "tags": []
   },
   "outputs": [],
   "source": [
    "classes = {\n",
    "    0: \"EmpireState\",\n",
    "    1: \"WTC\",\n",
    "    2: \"432ParkAve\",\n",
    "    3: \"UNBuilding\",\n",
    "    4: \"Flatiron\",\n",
    "    5: \"BrooklynBridge\",\n",
    "    6: \"ChryslerBuilding\",\n",
    "    7: \"MetlifeBuilding\",\n",
    "    8: \"StatueOfLiberty\",\n",
    "    9: \"30HudsonYards\",\n",
    "}"
   ]
  },
  {
   "cell_type": "markdown",
   "id": "56fb0c46-d77b-4ddc-9e43-953658ed793b",
   "metadata": {},
   "source": [
    "## Initialize the model"
   ]
  },
  {
   "cell_type": "code",
   "execution_count": 6,
   "id": "98528129-1bea-4b58-b48d-e46277b39256",
   "metadata": {
    "tags": []
   },
   "outputs": [],
   "source": [
    "\n",
    "\n",
    "# weights_path = '/home/jws2215/e6692-2024spring-finalproject-jwss-jws2215/runs/detect/detr/weights/best.pt' # vm path\n",
    "\n",
    "# local\n",
    "weights_path = '/Users/johansweldens/Documents/EECS6692.DLoE/final_project/e6692-2024spring-finalproject-jwss-jws2215/runs/detect/detr/weights/best.pt'\n",
    "\n",
    "# Load trained weights\n",
    "model = RTDETR(weights_path)\n",
    "\n"
   ]
  },
  {
   "cell_type": "markdown",
   "id": "cdef59ce-ccef-467d-91a9-68436c2906ae",
   "metadata": {},
   "source": [
    "# Testing Evaluation on Validation dataset"
   ]
  },
  {
   "cell_type": "code",
   "execution_count": 7,
   "id": "964b5ce3-50e6-4306-8441-4ca0bfcba692",
   "metadata": {
    "tags": []
   },
   "outputs": [
    {
     "ename": "FileNotFoundError",
     "evalue": "[Errno 2] No such file or directory: '/home/jws2215/e6692-2024spring-finalproject-jwss-jws2215/datasets/nyc_landmarks/valid'",
     "output_type": "error",
     "traceback": [
      "\u001b[0;31m---------------------------------------------------------------------------\u001b[0m",
      "\u001b[0;31mFileNotFoundError\u001b[0m                         Traceback (most recent call last)",
      "Cell \u001b[0;32mIn[7], line 4\u001b[0m\n\u001b[1;32m      1\u001b[0m valid_path \u001b[38;5;241m=\u001b[39m \u001b[38;5;124m'\u001b[39m\u001b[38;5;124m/home/jws2215/e6692-2024spring-finalproject-jwss-jws2215/datasets/nyc_landmarks/valid\u001b[39m\u001b[38;5;124m'\u001b[39m \u001b[38;5;66;03m# vm\u001b[39;00m\n\u001b[1;32m      3\u001b[0m \u001b[38;5;66;03m# Get a list of all .jpg files in the folder\u001b[39;00m\n\u001b[0;32m----> 4\u001b[0m image_files \u001b[38;5;241m=\u001b[39m [f \u001b[38;5;28;01mfor\u001b[39;00m f \u001b[38;5;129;01min\u001b[39;00m os\u001b[38;5;241m.\u001b[39mlistdir(valid_path) \u001b[38;5;28;01mif\u001b[39;00m f\u001b[38;5;241m.\u001b[39mendswith(\u001b[38;5;124m'\u001b[39m\u001b[38;5;124m.jpg\u001b[39m\u001b[38;5;124m'\u001b[39m)]\n\u001b[1;32m      6\u001b[0m \u001b[38;5;66;03m# Randomly select 10 images\u001b[39;00m\n\u001b[1;32m      7\u001b[0m selected_images \u001b[38;5;241m=\u001b[39m random\u001b[38;5;241m.\u001b[39msample(image_files, \u001b[38;5;241m10\u001b[39m)\n",
      "\u001b[0;31mFileNotFoundError\u001b[0m: [Errno 2] No such file or directory: '/home/jws2215/e6692-2024spring-finalproject-jwss-jws2215/datasets/nyc_landmarks/valid'"
     ]
    }
   ],
   "source": [
    "valid_path = '/home/jws2215/e6692-2024spring-finalproject-jwss-jws2215/datasets/nyc_landmarks/valid' # vm\n",
    "\n",
    "# Get a list of all .jpg files in the folder\n",
    "image_files = [f for f in os.listdir(valid_path) if f.endswith('.jpg')]\n",
    "\n",
    "# Randomly select 10 images\n",
    "selected_images = random.sample(image_files, 10)\n",
    "\n",
    "# Hyperparameters\n",
    "conf = 0.85 # 85% sure its an object\n",
    "visualize = False\n",
    "\n",
    "# Loop over the selected images\n",
    "for image_file in selected_images:\n",
    "    # Load and preprocess the image\n",
    "    image_path = os.path.join(valid_path, image_file)\n",
    "    image = Image.open(image_path).convert('RGB')\n",
    "    \n",
    "    print(\"image\", np.shape(image))\n",
    "    \n",
    "    \n",
    "    prediction = model(image, conf = conf, visualize = visualize)[0]\n",
    "    #print(\"predictions\", predictions)\n",
    "\n",
    "    # Display predictions\n",
    "    # prediction.show()"
   ]
  },
  {
   "cell_type": "code",
   "execution_count": null,
   "id": "ec9b0eee-bb87-48df-8962-5e1111655720",
   "metadata": {},
   "outputs": [],
   "source": [
    "ThaThaThaThaThaThaThaTh"
   ]
  }
 ],
 "metadata": {
  "kernelspec": {
   "display_name": "Python 3 (ipykernel)",
   "language": "python",
   "name": "python3"
  },
  "language_info": {
   "codemirror_mode": {
    "name": "ipython",
    "version": 3
   },
   "file_extension": ".py",
   "mimetype": "text/x-python",
   "name": "python",
   "nbconvert_exporter": "python",
   "pygments_lexer": "ipython3",
   "version": "3.11.7"
  }
 },
 "nbformat": 4,
 "nbformat_minor": 5
}
